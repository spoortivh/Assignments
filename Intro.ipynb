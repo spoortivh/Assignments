{
 "cells": [
  {
   "cell_type": "markdown",
   "id": "43839424",
   "metadata": {},
   "source": [
    "### Intro To jupyter"
   ]
  },
  {
   "cell_type": "code",
   "execution_count": 22,
   "id": "da70a6f2",
   "metadata": {},
   "outputs": [],
   "source": [
    "import numpy as np\n",
    "import pandas as pd\n",
    "import math as m\n",
    "import matplotlib.pyplot as plt\n",
    "%matplotlib inline\n",
    "import seaborn as sns"
   ]
  },
  {
   "cell_type": "code",
   "execution_count": 3,
   "id": "ed83c7bc",
   "metadata": {},
   "outputs": [
    {
     "data": {
      "text/plain": [
       "array([0., 0., 0., 0., 0.])"
      ]
     },
     "execution_count": 3,
     "metadata": {},
     "output_type": "execute_result"
    }
   ],
   "source": [
    "np.zeros(5)"
   ]
  },
  {
   "cell_type": "code",
   "execution_count": 5,
   "id": "0b0b66c3",
   "metadata": {},
   "outputs": [
    {
     "data": {
      "text/plain": [
       "array([[0., 0., 0., 0., 0.],\n",
       "       [0., 0., 0., 0., 0.],\n",
       "       [0., 0., 0., 0., 0.],\n",
       "       [0., 0., 0., 0., 0.],\n",
       "       [0., 0., 0., 0., 0.]])"
      ]
     },
     "execution_count": 5,
     "metadata": {},
     "output_type": "execute_result"
    }
   ],
   "source": [
    "np.zeros((5,5))  ## 5*5 Matrix"
   ]
  },
  {
   "cell_type": "code",
   "execution_count": 8,
   "id": "aaac563a",
   "metadata": {},
   "outputs": [
    {
     "data": {
      "text/plain": [
       "array([], dtype=float64)"
      ]
     },
     "execution_count": 8,
     "metadata": {},
     "output_type": "execute_result"
    }
   ],
   "source": [
    "l1 = [1,2,0,4,5]\n",
    "l2 = [1,0,0,0,5]\n",
    "l3 = [1,2,0,4,5]\n",
    "lis = [[1,2,0,4,5],[1,0,0,0,5],[1,2,0,4,5]]\n",
    "np.array(())"
   ]
  },
  {
   "cell_type": "markdown",
   "id": "9cd7b5d9",
   "metadata": {},
   "source": [
    "introduction to text note\n"
   ]
  },
  {
   "cell_type": "markdown",
   "id": "9a1aea73",
   "metadata": {},
   "source": [
    "# heading 1\n"
   ]
  },
  {
   "cell_type": "code",
   "execution_count": 10,
   "id": "5c2f0eff",
   "metadata": {},
   "outputs": [],
   "source": [
    "matrix = np.array((lis))"
   ]
  },
  {
   "cell_type": "code",
   "execution_count": 11,
   "id": "173dd25c",
   "metadata": {},
   "outputs": [
    {
     "name": "stdout",
     "output_type": "stream",
     "text": [
      "[[1 2 0 4 5]\n",
      " [1 0 0 0 5]\n",
      " [1 2 0 4 5]]\n"
     ]
    }
   ],
   "source": [
    "print(matrix)"
   ]
  },
  {
   "cell_type": "code",
   "execution_count": 13,
   "id": "28828aa1",
   "metadata": {},
   "outputs": [
    {
     "name": "stdout",
     "output_type": "stream",
     "text": [
      "<class 'numpy.ndarray'>\n"
     ]
    }
   ],
   "source": [
    "print(type(matrix))"
   ]
  },
  {
   "cell_type": "code",
   "execution_count": 16,
   "id": "32587912",
   "metadata": {},
   "outputs": [
    {
     "data": {
      "text/plain": [
       "(3, 5)"
      ]
     },
     "execution_count": 16,
     "metadata": {},
     "output_type": "execute_result"
    }
   ],
   "source": [
    "matrix.shape"
   ]
  },
  {
   "cell_type": "code",
   "execution_count": 17,
   "id": "1c8811e7",
   "metadata": {},
   "outputs": [
    {
     "data": {
      "text/plain": [
       "array([[1, 2, 0],\n",
       "       [4, 5, 1],\n",
       "       [0, 0, 0],\n",
       "       [5, 1, 2],\n",
       "       [0, 4, 5]])"
      ]
     },
     "execution_count": 17,
     "metadata": {},
     "output_type": "execute_result"
    }
   ],
   "source": [
    "matrix.reshape(5,3)"
   ]
  },
  {
   "cell_type": "code",
   "execution_count": 18,
   "id": "fa394b92",
   "metadata": {},
   "outputs": [],
   "source": [
    "three_d = np.array((lis,lis,lis))"
   ]
  },
  {
   "cell_type": "code",
   "execution_count": 19,
   "id": "3fb90b41",
   "metadata": {},
   "outputs": [
    {
     "data": {
      "text/plain": [
       "array([[[1, 2, 0, 4, 5],\n",
       "        [1, 0, 0, 0, 5],\n",
       "        [1, 2, 0, 4, 5]],\n",
       "\n",
       "       [[1, 2, 0, 4, 5],\n",
       "        [1, 0, 0, 0, 5],\n",
       "        [1, 2, 0, 4, 5]],\n",
       "\n",
       "       [[1, 2, 0, 4, 5],\n",
       "        [1, 0, 0, 0, 5],\n",
       "        [1, 2, 0, 4, 5]]])"
      ]
     },
     "execution_count": 19,
     "metadata": {},
     "output_type": "execute_result"
    }
   ],
   "source": [
    "three_d\n"
   ]
  },
  {
   "cell_type": "code",
   "execution_count": 20,
   "id": "dd93f9f6",
   "metadata": {},
   "outputs": [
    {
     "data": {
      "text/plain": [
       "(3, 3, 5)"
      ]
     },
     "execution_count": 20,
     "metadata": {},
     "output_type": "execute_result"
    }
   ],
   "source": [
    "three_d.shape\n"
   ]
  },
  {
   "cell_type": "code",
   "execution_count": 23,
   "id": "2ed35681",
   "metadata": {},
   "outputs": [
    {
     "data": {
      "text/plain": [
       "0"
      ]
     },
     "execution_count": 23,
     "metadata": {},
     "output_type": "execute_result"
    }
   ],
   "source": [
    "three_d[2][2][2]"
   ]
  },
  {
   "cell_type": "code",
   "execution_count": 58,
   "id": "70afc55a",
   "metadata": {},
   "outputs": [],
   "source": [
    "spoorti = np.array((1,2,3,4,5,6,7,8,9))\n",
    "sujata = spoorti**2\n",
    "manoj = np.sin(spoorti)"
   ]
  },
  {
   "cell_type": "code",
   "execution_count": 71,
   "id": "ec79c34b",
   "metadata": {},
   "outputs": [
    {
     "data": {
      "image/png": "[encoded data removed]",
      "text/plain": [
       "<Figure size 576x576 with 1 Axes>"
      ]
     },
     "metadata": {
      "needs_background": "light"
     },
     "output_type": "display_data"
    }
   ],
   "source": [
    "plt.figure(figsize=(8,8))\n",
    "plt.plot(spoorti,sujata,marker='o',color='red',label='spoo')\n",
    "plt.plot(spoorti,manoj,marker='+',color='blue',label='suja')\n",
    "plt.xlabel('X-values')\n",
    "plt.ylabel('Y-values')\n",
    "plt.legend()\n",
    "plt.title('Funplot')\n",
    "plt.show()"
   ]
  },
  {
   "cell_type": "code",
   "execution_count": 74,
   "id": "1f6b0999",
   "metadata": {},
   "outputs": [
    {
     "ename": "TypeError",
     "evalue": "'module' object is not callable",
     "output_type": "error",
     "traceback": [
      "\u001b[1;31m---------------------------------------------------------------------------\u001b[0m",
      "\u001b[1;31mTypeError\u001b[0m                                 Traceback (most recent call last)",
      "\u001b[1;32m<ipython-input-74-83a136907797>\u001b[0m in \u001b[0;36m<module>\u001b[1;34m\u001b[0m\n\u001b[1;32m----> 1\u001b[1;33m \u001b[0ma\u001b[0m \u001b[1;33m=\u001b[0m \u001b[0mnp\u001b[0m\u001b[1;33m.\u001b[0m\u001b[0mrandom\u001b[0m\u001b[1;33m(\u001b[0m\u001b[1;36m25\u001b[0m\u001b[1;33m)\u001b[0m\u001b[1;33m\u001b[0m\u001b[1;33m\u001b[0m\u001b[0m\n\u001b[0m\u001b[0;32m      2\u001b[0m \u001b[0mb\u001b[0m \u001b[1;33m=\u001b[0m \u001b[0mnp\u001b[0m\u001b[1;33m.\u001b[0m\u001b[0mrandom\u001b[0m\u001b[1;33m(\u001b[0m\u001b[1;36m25\u001b[0m\u001b[1;33m)\u001b[0m\u001b[1;33m\u001b[0m\u001b[1;33m\u001b[0m\u001b[0m\n\u001b[0;32m      3\u001b[0m \u001b[0mplt\u001b[0m\u001b[1;33m.\u001b[0m\u001b[0mscatter\u001b[0m\u001b[1;33m(\u001b[0m\u001b[0ma\u001b[0m\u001b[1;33m,\u001b[0m\u001b[0mb\u001b[0m\u001b[1;33m)\u001b[0m\u001b[1;33m\u001b[0m\u001b[1;33m\u001b[0m\u001b[0m\n",
      "\u001b[1;31mTypeError\u001b[0m: 'module' object is not callable"
     ]
    }
   ],
   "source": [
    "a = np.random(25)\n",
    "b = np.random(25)\n",
    "plt.scatter(a,b)"
   ]
  },
  {
   "cell_type": "code",
   "execution_count": 75,
   "id": "c90661e1",
   "metadata": {},
   "outputs": [
    {
     "ename": "NameError",
     "evalue": "name 'cwd' is not defined",
     "output_type": "error",
     "traceback": [
      "\u001b[1;31m---------------------------------------------------------------------------\u001b[0m",
      "\u001b[1;31mNameError\u001b[0m                                 Traceback (most recent call last)",
      "\u001b[1;32m<ipython-input-75-e863a2ac204e>\u001b[0m in \u001b[0;36m<module>\u001b[1;34m\u001b[0m\n\u001b[1;32m----> 1\u001b[1;33m \u001b[0mcwd\u001b[0m\u001b[1;33m\u001b[0m\u001b[1;33m\u001b[0m\u001b[0m\n\u001b[0m",
      "\u001b[1;31mNameError\u001b[0m: name 'cwd' is not defined"
     ]
    }
   ],
   "source": []
  },
  {
   "cell_type": "code",
   "execution_count": 7,
   "id": "61741208",
   "metadata": {},
   "outputs": [],
   "source": [
    "spoo=np.array((10,20,30,40,50,60,70,80,90))"
   ]
  },
  {
   "cell_type": "code",
   "execution_count": 8,
   "id": "c9b89956",
   "metadata": {},
   "outputs": [
    {
     "data": {
      "text/plain": [
       "array([10, 20, 30, 40, 50, 60, 70, 80, 90])"
      ]
     },
     "execution_count": 8,
     "metadata": {},
     "output_type": "execute_result"
    }
   ],
   "source": [
    "spoo"
   ]
  },
  {
   "cell_type": "code",
   "execution_count": 9,
   "id": "7ef802f2",
   "metadata": {},
   "outputs": [],
   "source": [
    "pree = np.array((20,23,24,25,26,27,28,29,19))"
   ]
  },
  {
   "cell_type": "code",
   "execution_count": 10,
   "id": "66e34d94",
   "metadata": {},
   "outputs": [
    {
     "data": {
      "text/plain": [
       "array([20, 23, 24, 25, 26, 27, 28, 29, 19])"
      ]
     },
     "execution_count": 10,
     "metadata": {},
     "output_type": "execute_result"
    }
   ],
   "source": [
    "pree"
   ]
  },
  {
   "cell_type": "code",
   "execution_count": 11,
   "id": "3ab0e4b6",
   "metadata": {},
   "outputs": [
    {
     "data": {
      "text/plain": [
       "array([False, False, False, False, False,  True,  True,  True,  True])"
      ]
     },
     "execution_count": 11,
     "metadata": {},
     "output_type": "execute_result"
    }
   ],
   "source": [
    "spoo>50"
   ]
  },
  {
   "cell_type": "code",
   "execution_count": 12,
   "id": "e5059517",
   "metadata": {},
   "outputs": [
    {
     "ename": "TypeError",
     "evalue": "'numpy.ndarray' object is not callable",
     "output_type": "error",
     "traceback": [
      "\u001b[1;31m---------------------------------------------------------------------------\u001b[0m",
      "\u001b[1;31mTypeError\u001b[0m                                 Traceback (most recent call last)",
      "\u001b[1;32m<ipython-input-12-f430f2f20019>\u001b[0m in \u001b[0;36m<module>\u001b[1;34m\u001b[0m\n\u001b[1;32m----> 1\u001b[1;33m \u001b[0mspoo\u001b[0m\u001b[1;33m(\u001b[0m\u001b[0mspoo\u001b[0m\u001b[1;33m>\u001b[0m\u001b[1;36m50\u001b[0m\u001b[1;33m)\u001b[0m\u001b[1;33m\u001b[0m\u001b[1;33m\u001b[0m\u001b[0m\n\u001b[0m",
      "\u001b[1;31mTypeError\u001b[0m: 'numpy.ndarray' object is not callable"
     ]
    }
   ],
   "source": [
    "spoo(spoo>50)"
   ]
  },
  {
   "cell_type": "code",
   "execution_count": 13,
   "id": "48f63463",
   "metadata": {},
   "outputs": [
    {
     "data": {
      "text/plain": [
       "array([60, 70, 80, 90])"
      ]
     },
     "execution_count": 13,
     "metadata": {},
     "output_type": "execute_result"
    }
   ],
   "source": [
    "spoo[spoo>50]"
   ]
  },
  {
   "cell_type": "code",
   "execution_count": 16,
   "id": "186c9673",
   "metadata": {},
   "outputs": [
    {
     "name": "stdout",
     "output_type": "stream",
     "text": [
      "[ 30  43  54  65  76  87  98 109 109]\n"
     ]
    }
   ],
   "source": [
    "print(spoo+pree)"
   ]
  },
  {
   "cell_type": "code",
   "execution_count": 17,
   "id": "41dcae47",
   "metadata": {},
   "outputs": [
    {
     "data": {
      "text/plain": [
       "array([[1., 0., 0., 0., 0.],\n",
       "       [0., 1., 0., 0., 0.],\n",
       "       [0., 0., 1., 0., 0.],\n",
       "       [0., 0., 0., 1., 0.],\n",
       "       [0., 0., 0., 0., 1.]])"
      ]
     },
     "execution_count": 17,
     "metadata": {},
     "output_type": "execute_result"
    }
   ],
   "source": [
    "np.eye(5)"
   ]
  },
  {
   "cell_type": "code",
   "execution_count": 19,
   "id": "f0bba7b1",
   "metadata": {},
   "outputs": [
    {
     "data": {
      "text/plain": [
       "array([[1., 0., 0., 0.],\n",
       "       [0., 1., 0., 0.],\n",
       "       [0., 0., 1., 0.],\n",
       "       [0., 0., 0., 1.],\n",
       "       [0., 0., 0., 0.]])"
      ]
     },
     "execution_count": 19,
     "metadata": {},
     "output_type": "execute_result"
    }
   ],
   "source": [
    "np.eye(5,4)"
   ]
  },
  {
   "cell_type": "code",
   "execution_count": 22,
   "id": "b1f5411f",
   "metadata": {},
   "outputs": [],
   "source": [
    "array=np.random.rand(5,5)"
   ]
  },
  {
   "cell_type": "code",
   "execution_count": 23,
   "id": "a243f524",
   "metadata": {},
   "outputs": [
    {
     "name": "stdout",
     "output_type": "stream",
     "text": [
      "[[0.42202249 0.13249952 0.07999309 0.8187581  0.91535294]\n",
      " [0.88547445 0.82556412 0.07447919 0.06342096 0.02189498]\n",
      " [0.04649575 0.72796481 0.40448124 0.89690772 0.94082959]\n",
      " [0.74265417 0.33150318 0.65489377 0.43848729 0.3158683 ]\n",
      " [0.84925288 0.29519558 0.19676422 0.88699658 0.44277434]]\n"
     ]
    }
   ],
   "source": [
    "print(array)"
   ]
  },
  {
   "cell_type": "code",
   "execution_count": 24,
   "id": "f2e1fb03",
   "metadata": {},
   "outputs": [
    {
     "data": {
      "text/plain": [
       "0.896907719745135"
      ]
     },
     "execution_count": 24,
     "metadata": {},
     "output_type": "execute_result"
    }
   ],
   "source": [
    "array[2][3]"
   ]
  },
  {
   "cell_type": "code",
   "execution_count": 26,
   "id": "f7b719cd",
   "metadata": {},
   "outputs": [
    {
     "data": {
      "text/plain": [
       "array([[0.82556412, 0.07447919, 0.06342096],\n",
       "       [0.72796481, 0.40448124, 0.89690772],\n",
       "       [0.33150318, 0.65489377, 0.43848729]])"
      ]
     },
     "execution_count": 26,
     "metadata": {},
     "output_type": "execute_result"
    }
   ],
   "source": [
    "array[1:4,1:4]"
   ]
  },
  {
   "cell_type": "code",
   "execution_count": 42,
   "id": "7125815f",
   "metadata": {},
   "outputs": [],
   "source": [
    "height = np.array((5.6,6.0,5.8,4.9,6.8))\n",
    "weight = np.array((52,48,56,79,70,40 ))\n",
    "name = np.array(('spoo','pree','suja','mehe','theju'))"
   ]
  },
  {
   "cell_type": "code",
   "execution_count": 37,
   "id": "29723a76",
   "metadata": {},
   "outputs": [
    {
     "data": {
      "text/plain": [
       "Text(0.5, 1.0, 'name vs height')"
      ]
     },
     "execution_count": 37,
     "metadata": {},
     "output_type": "execute_result"
    },
    {
     "data": {
      "image/png": "[encoded data removed]",
      "text/plain": [
       "<Figure size 432x288 with 1 Axes>"
      ]
     },
     "metadata": {
      "needs_background": "light"
     },
     "output_type": "display_data"
    }
   ],
   "source": [
    "plt.plot(name,height,color='green', marker='o', linestyle='dashed')\n",
    "plt.title('name vs height')"
   ]
  },
  {
   "cell_type": "code",
   "execution_count": 45,
   "id": "fa583856",
   "metadata": {},
   "outputs": [
    {
     "data": {
      "text/plain": [
       "(array([1., 1., 1., 1., 1.]),\n",
       " array([0. , 0.8, 1.6, 2.4, 3.2, 4. ]),\n",
       " <BarContainer object of 5 artists>)"
      ]
     },
     "execution_count": 45,
     "metadata": {},
     "output_type": "execute_result"
    },
    {
     "data": {
      "image/png": "[encoded data removed]",
      "text/plain": [
       "<Figure size 432x288 with 1 Axes>"
      ]
     },
     "metadata": {
      "needs_background": "light"
     },
     "output_type": "display_data"
    }
   ],
   "source": [
    "plt.hist(x=name,bins=5)"
   ]
  },
  {
   "cell_type": "code",
   "execution_count": 19,
   "id": "81fd8578",
   "metadata": {},
   "outputs": [
    {
     "data": {
      "text/plain": [
       "Text(0, 0.5, 'no of chocolates')"
      ]
     },
     "execution_count": 19,
     "metadata": {},
     "output_type": "execute_result"
    },
    {
     "data": {
      "image/png": "[encoded data removed]",
      "text/plain": [
       "<Figure size 432x288 with 1 Axes>"
      ]
     },
     "metadata": {
      "needs_background": "light"
     },
     "output_type": "display_data"
    }
   ],
   "source": [
    "chocolates = np.array((10,10,12,12,16,16,15,18,19,17,14,10,12,58,45,45,26,31,32,31,33,26,23,23,23,23,))\n",
    "plt.hist(x=chocolates,bins=5)\n",
    "plt.xlabel('price range')\n",
    "plt.ylabel('no of chocolates')"
   ]
  },
  {
   "cell_type": "code",
   "execution_count": 11,
   "id": "eb8367ea",
   "metadata": {},
   "outputs": [
    {
     "data": {
      "text/plain": [
       "26"
      ]
     },
     "execution_count": 11,
     "metadata": {},
     "output_type": "execute_result"
    }
   ],
   "source": [
    "len(chocolates)"
   ]
  },
  {
   "cell_type": "code",
   "execution_count": 12,
   "id": "0d316979",
   "metadata": {},
   "outputs": [
    {
     "data": {
      "text/plain": [
       "58"
      ]
     },
     "execution_count": 12,
     "metadata": {},
     "output_type": "execute_result"
    }
   ],
   "source": [
    "chocolates.max()"
   ]
  },
  {
   "cell_type": "code",
   "execution_count": 13,
   "id": "ff2f1d1b",
   "metadata": {},
   "outputs": [
    {
     "data": {
      "text/plain": [
       "13"
      ]
     },
     "execution_count": 13,
     "metadata": {},
     "output_type": "execute_result"
    }
   ],
   "source": [
    "chocolates.argmax()"
   ]
  },
  {
   "cell_type": "code",
   "execution_count": 16,
   "id": "cbe5db13",
   "metadata": {},
   "outputs": [
    {
     "data": {
      "text/plain": [
       "23.076923076923077"
      ]
     },
     "execution_count": 16,
     "metadata": {},
     "output_type": "execute_result"
    }
   ],
   "source": [
    "chocolates.mean()"
   ]
  },
  {
   "cell_type": "markdown",
   "id": "e02aec50",
   "metadata": {},
   "source": [
    "# Pandas"
   ]
  },
  {
   "cell_type": "markdown",
   "id": "26b5a095",
   "metadata": {},
   "source": [
    "there are 2types of datatypes in pandas. They are 1. series 2. dataframe."
   ]
  },
  {
   "cell_type": "markdown",
   "id": "02e4a5b2",
   "metadata": {},
   "source": [
    "series: it is 1D array with coustom index values\n",
    "datframe: it is a 2D array with coustom coloumn and indices"
   ]
  },
  {
   "cell_type": "code",
   "execution_count": 23,
   "id": "8637fbb0",
   "metadata": {},
   "outputs": [],
   "source": [
    "names = ('spoo','suj','pree','mehe','souk')\n",
    "marks = (70,80,90,60,78)"
   ]
  },
  {
   "cell_type": "code",
   "execution_count": 25,
   "id": "a818ac17",
   "metadata": {},
   "outputs": [
    {
     "data": {
      "text/plain": [
       "spoo    70\n",
       "suj     80\n",
       "pree    90\n",
       "mehe    60\n",
       "souk    78\n",
       "dtype: int64"
      ]
     },
     "execution_count": 25,
     "metadata": {},
     "output_type": "execute_result"
    }
   ],
   "source": [
    "pd.Series(marks,names)"
   ]
  },
  {
   "cell_type": "code",
   "execution_count": null,
   "id": "e04f5bc5",
   "metadata": {},
   "outputs": [],
   "source": []
  }
 ],
 "metadata": {
  "kernelspec": {
   "display_name": "Python 3",
   "language": "python",
   "name": "python3"
  },
  "language_info": {
   "codemirror_mode": {
    "name": "ipython",
    "version": 3
   },
   "file_extension": ".py",
   "mimetype": "text/x-python",
   "name": "python",
   "nbconvert_exporter": "python",
   "pygments_lexer": "ipython3",
   "version": "3.8.8"
  }
 },
 "nbformat": 4,
 "nbformat_minor": 5
}
